{
 "cells": [
  {
   "cell_type": "code",
   "execution_count": 37,
   "metadata": {},
   "outputs": [],
   "source": [
    "import cv2\n",
    "\n",
    "from PIL import Image\n",
    "from image_slicer import slice\n",
    "import os"
   ]
  },
  {
   "cell_type": "code",
   "execution_count": 5,
   "metadata": {},
   "outputs": [],
   "source": [
    "img = cv2.imread('a11.png') # 해당 경로의 파일 읽어오기\n",
    "cv2.imshow('img', img) # img 라는 이름의 창에 img 를 표시\n",
    "cv2.waitKey(0) # 지정된 시간(ms) 동안 사용자 키 입력 대기\n",
    "cv2.destroyAllWindows() # 모든 창 닫기\n"
   ]
  },
  {
   "cell_type": "code",
   "execution_count": 39,
   "metadata": {},
   "outputs": [],
   "source": [
    "def changeName(path, cName):\n",
    "    i = 1\n",
    "    for filename in os.listdir(path):\n",
    "        print(path+filename, '=>', path+str(cName)+str(i)+'.png')\n",
    "        os.rename(path+filename, path+str(cName)+str(i)+'.png')\n",
    "        i += 1\n",
    " "
   ]
  },
  {
   "cell_type": "code",
   "execution_count": 49,
   "metadata": {},
   "outputs": [],
   "source": [
    "#a이미지 9분할 \n",
    "for i in range(1,5):\n",
    "    for j in range(1,5):\n",
    "        slice('a'+str(i)+str(j)+'.png', 9)\n",
    "        j += 1"
   ]
  },
  {
   "cell_type": "code",
   "execution_count": 50,
   "metadata": {},
   "outputs": [],
   "source": [
    "#n이미지 9분할 \n",
    "for i in range(1,5):\n",
    "    for j in range(1,5):\n",
    "        slice('n'+str(i)+str(j)+'.png', 9)\n",
    "        j += 1\n",
    "        \n",
    "        "
   ]
  },
  {
   "cell_type": "code",
   "execution_count": 59,
   "metadata": {},
   "outputs": [
    {
     "ename": "FileNotFoundError",
     "evalue": "[WinError 2] 지정된 파일을 찾을 수 없습니다: '\\\\Users\\\\USER\\\\Desktop\\\\SOFC\\\\data\\\\Sample4\\\\finish.info' -> '\\\\Users\\\\USER\\\\Desktop\\\\SOFC\\\\data\\\\Sample4\\\\a21.png'",
     "output_type": "error",
     "traceback": [
      "\u001b[1;31m---------------------------------------------------------------------------\u001b[0m",
      "\u001b[1;31mFileNotFoundError\u001b[0m                         Traceback (most recent call last)",
      "\u001b[1;32mc:\\Users\\USER\\Desktop\\SOFC\\data\\Sample1_revise\\background.ipynb Cell 6'\u001b[0m in \u001b[0;36m<cell line: 7>\u001b[1;34m()\u001b[0m\n\u001b[0;32m     <a href='vscode-notebook-cell:/c%3A/Users/USER/Desktop/SOFC/data/Sample1_revise/background.ipynb#ch0000005?line=11'>12</a>\u001b[0m dst \u001b[39m=\u001b[39m \u001b[39m'\u001b[39m\u001b[39ma\u001b[39m\u001b[39m'\u001b[39m\u001b[39m+\u001b[39m \u001b[39mstr\u001b[39m(i)  \u001b[39m+\u001b[39m \u001b[39mstr\u001b[39m(j) \u001b[39m+\u001b[39m \u001b[39m'\u001b[39m\u001b[39m.png\u001b[39m\u001b[39m'\u001b[39m \u001b[39m# 바꾸고자 하는 이름 \u001b[39;00m\n\u001b[0;32m     <a href='vscode-notebook-cell:/c%3A/Users/USER/Desktop/SOFC/data/Sample1_revise/background.ipynb#ch0000005?line=12'>13</a>\u001b[0m dst \u001b[39m=\u001b[39m os\u001b[39m.\u001b[39mpath\u001b[39m.\u001b[39mjoin(path, dst) \u001b[39m# 바꾸고자 하는 경로+파일명을 저장 \u001b[39;00m\n\u001b[1;32m---> <a href='vscode-notebook-cell:/c%3A/Users/USER/Desktop/SOFC/data/Sample1_revise/background.ipynb#ch0000005?line=13'>14</a>\u001b[0m os\u001b[39m.\u001b[39;49mrename(src, dst) \u001b[39m# 기존 이름을 저장해놓은 이름으로 변경\u001b[39;00m\n\u001b[0;32m     <a href='vscode-notebook-cell:/c%3A/Users/USER/Desktop/SOFC/data/Sample1_revise/background.ipynb#ch0000005?line=14'>15</a>\u001b[0m j \u001b[39m+\u001b[39m\u001b[39m=\u001b[39m\u001b[39m1\u001b[39m\n",
      "\u001b[1;31mFileNotFoundError\u001b[0m: [WinError 2] 지정된 파일을 찾을 수 없습니다: '\\\\Users\\\\USER\\\\Desktop\\\\SOFC\\\\data\\\\Sample4\\\\finish.info' -> '\\\\Users\\\\USER\\\\Desktop\\\\SOFC\\\\data\\\\Sample4\\\\a21.png'"
     ]
    }
   ],
   "source": [
    "import os\n",
    "\n",
    "name ='양극'\n",
    "path = r'\\Users\\USER\\Desktop\\SOFC\\data\\Sample4'\n",
    "file_names = os.listdir(path)\n",
    "\n",
    "for i in range(4):\n",
    "    for j in range(4):\n",
    "        i += 1\n",
    "        for file_name in file_names:\n",
    "            src = os.path.join(path, file_name) # os.path.join('폴더 위치', '파일명') 에 접근\n",
    "            dst = 'a'+ str(i)  + str(j) + '.png' # 바꾸고자 하는 이름 \n",
    "            dst = os.path.join(path, dst) # 바꾸고자 하는 경로+파일명을 저장 \n",
    "            os.rename(src, dst) # 기존 이름을 저장해놓은 이름으로 변경\n",
    "            j +=1"
   ]
  }
 ],
 "metadata": {
  "interpreter": {
   "hash": "42588fd11209419b7c81abe23e31a1d2101f60811b02170c268e57ebb57d5d9a"
  },
  "kernelspec": {
   "display_name": "Python 3.8.8 ('base')",
   "language": "python",
   "name": "python3"
  },
  "language_info": {
   "codemirror_mode": {
    "name": "ipython",
    "version": 3
   },
   "file_extension": ".py",
   "mimetype": "text/x-python",
   "name": "python",
   "nbconvert_exporter": "python",
   "pygments_lexer": "ipython3",
   "version": "3.10.4"
  },
  "orig_nbformat": 4
 },
 "nbformat": 4,
 "nbformat_minor": 2
}
