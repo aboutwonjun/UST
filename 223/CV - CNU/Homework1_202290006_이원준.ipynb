{
  "cells": [
    {
      "cell_type": "code",
      "execution_count": 18,
      "metadata": {
        "colab": {
          "base_uri": "https://localhost:8080/",
          "height": 381
        },
        "id": "ssrQjjfyKryI",
        "outputId": "80dd77d9-6ec5-469d-e397-f086a1bfd389"
      },
      "outputs": [
        {
          "data": {
            "text/plain": [
              "([], [])"
            ]
          },
          "execution_count": 18,
          "metadata": {},
          "output_type": "execute_result"
        },
        {
          "data": {
            "image/png": "[encoded data removed]",
            "text/plain": [
              "<Figure size 288x216 with 1 Axes>"
            ]
          },
          "metadata": {},
          "output_type": "display_data"
        }
      ],
      "source": [
        "import numpy as np\n",
        "import matplotlib.pyplot as plt\n",
        "from sklearn import datasets\n",
        "\n",
        "def sigmoid(z): # sigmoid function\n",
        "    return 1 / (1 + np.exp(-z)) #시그모이드 함수 구현 \n",
        "\n",
        "def gradient(X, h, y): #x는 입력, h는 sigmoid, y는 정답값\n",
        "    return np.dot(X.T, (h - y)) #x앞에 있는 W가 여기 곱해지면 되셌죠? #z =Wx+b이기에 X 곱해줌 \n",
        "\n",
        "\n",
        "def linear_classification(X, y, theta, alpha, iters): \n",
        "    for i in range(iters):\n",
        "        h = sigmoid(np.dot(X, theta)) #Wx+b \n",
        "        gradient_val = gradient(X, h, y)\n",
        "        theta = theta - (gradient_val * alpha) #파라미터 \n",
        "    return theta\n",
        "\n",
        "# 실습에 활요할 데이터 불러오기\n",
        "iris = datasets.load_iris()\n",
        "X = iris.data[:100, 0:2]  # 앞에 있는 100개의 샘플만 사용, 앞에 있는 두개의 feature만 사용\n",
        "y = np.array(iris.target)[:100] # 앞에 있는 100개의 샘플만 사용\n",
        "\n",
        "# 입력 feature X= [X1, X2]를 X = [1, X1, X2]의 형태로 변환. \n",
        "# 이유: dot(X,theta) = dot([1, X1, X2], [theta_0, theta_1, theta_2])의 형태로 계산하기 위해\n",
        "# 여기서 theta_0은 bias라고 보면됨\n",
        "X = np.concatenate((np.ones((X.shape[0], 1)), X), axis=1)  \n",
        "# print(X.shape[0]) # 샘플의 개수\n",
        "#np.ones 1 # 1차원 배열을 만들어줌\n",
        "\n",
        "\n",
        "\n",
        "# 학습 파라미터 초기화\n",
        "theta = np.zeros(X.shape[1])\n",
        "\n",
        "# 하이퍼 파라미터 설정\n",
        "alpha = 0.01 # learning rate\n",
        "iterations = 10000 # 반복횟수\n",
        "\n",
        "# linear classification 학습 실행\n",
        "theta = linear_classification(X, y, theta, alpha, iterations)\n",
        "\n",
        "# 여기 부터 아래에 있는 코드는 시각화 코드\n",
        "\n",
        "# Plot the decision boundary. For that, we will assign a color to each\n",
        "# point in the mesh [x_min, x_max]x[y_min, y_max].\n",
        "x_min, x_max = X[:, 1].min() - .5, X[:, 1].max() + .5\n",
        "y_min, y_max = X[:, 2].min() - .5, X[:, 2].max() + .5\n",
        "h = .02  # step size in the mesh\n",
        "xx, yy = np.meshgrid(np.arange(x_min, x_max, h), np.arange(y_min, y_max, h))\n",
        "\n",
        "test_in = np.concatenate((np.ones((xx.ravel().shape[0], 1)), np.c_[xx.ravel(), yy.ravel()]), axis=1)\n",
        "Z = sigmoid(np.dot(test_in, theta)) # 테스트 실행\n",
        "Z[Z>0.5] = 1 \n",
        "Z[Z<0.5] = 0\n",
        "\n",
        "# Put the result into a color plot\n",
        "Z = Z.reshape(xx.shape)\n",
        "plt.figure(1, figsize=(4, 3))\n",
        "plt.pcolormesh(xx, yy, Z, cmap=plt.cm.Paired)\n",
        "\n",
        "# Plot also the training points\n",
        "plt.scatter(X[:, 1], X[:, 2], c=y, edgecolors='k', cmap=plt.cm.Paired)\n",
        "plt.xlabel('Sepal length')\n",
        "plt.ylabel('Sepal width')\n",
        "\n",
        "plt.xlim(xx.min(), xx.max())\n",
        "plt.ylim(yy.min(), yy.max())\n",
        "plt.xticks(())\n",
        "plt.yticks(())\n"
      ]
    },
    {
      "cell_type": "code",
      "execution_count": null,
      "metadata": {},
      "outputs": [],
      "source": []
    }
  ],
  "metadata": {
    "colab": {
      "collapsed_sections": [],
      "name": "Linear_classification_실습_템플릿",
      "provenance": []
    },
    "kernelspec": {
      "display_name": "Python 3",
      "name": "python3"
    },
    "language_info": {
      "codemirror_mode": {
        "name": "ipython",
        "version": 3
      },
      "file_extension": ".py",
      "mimetype": "text/x-python",
      "name": "python",
      "nbconvert_exporter": "python",
      "pygments_lexer": "ipython3",
      "version": "3.9.7"
    }
  },
  "nbformat": 4,
  "nbformat_minor": 0
}
